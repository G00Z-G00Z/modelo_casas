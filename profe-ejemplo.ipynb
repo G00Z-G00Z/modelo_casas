{
 "cells": [
  {
   "cell_type": "code",
   "execution_count": 13,
   "metadata": {},
   "outputs": [
    {
     "data": {
      "text/plain": [
       "' Predict-housing-prices.py\\n\\n    This Python script predicts the housing prices based on some parameters\\n\\n    Author: G00Z-G00Z\\n    Contact: edygomezgg4@gmail.com\\n    First created: Thu 22 Sep, 2022\\n'"
      ]
     },
     "execution_count": 13,
     "metadata": {},
     "output_type": "execute_result"
    }
   ],
   "source": [
    "\"\"\" Predict-housing-prices.py\n",
    "\n",
    "    This Python script predicts the housing prices based on some parameters\n",
    "\n",
    "    Author: G00Z-G00Z\n",
    "    Contact: edygomezgg4@gmail.com\n",
    "    First created: Thu 22 Sep, 2022\n",
    "\"\"\"\n"
   ]
  },
  {
   "cell_type": "markdown",
   "metadata": {},
   "source": [
    "# Linear regresion with normal equation\n",
    "\n",
    "Esta se obtiene con la ecuacion normal para poder obtener la linear equation\n",
    "![Imagen de ecuacion normal](https://miro.medium.com/max/1120/1*7ZiWm6xAF4oWiYfWklUMEw.jpeg)"
   ]
  },
  {
   "cell_type": "code",
   "execution_count": 14,
   "metadata": {},
   "outputs": [],
   "source": [
    "import pandas as pd\n",
    "import numpy as np\n",
    "import matplotlib.pyplot as plt\n",
    "from sklearn import tree\n",
    "from sklearn.model_selection import train_test_split\n",
    "from sklearn.linear_model import LinearRegression\n",
    "from sklearn.tree import DecisionTreeRegressor\n",
    "from sklearn.preprocessing import PolynomialFeatures\n",
    "from sklearn.metrics import mean_squared_error, r2_score"
   ]
  },
  {
   "cell_type": "code",
   "execution_count": 15,
   "metadata": {},
   "outputs": [
    {
     "name": "stdout",
     "output_type": "stream",
     "text": [
      "      price  area  bedrooms  bathrooms  stories  parking\n",
      "0  13300000  7420         4          2        3        2\n",
      "1  12250000  8960         4          4        4        3\n",
      "2  12250000  9960         3          2        2        2\n",
      "3  12215000  7500         4          2        2        3\n",
      "4  11410000  7420         4          1        2        2\n"
     ]
    }
   ],
   "source": [
    "# Read dataset\n",
    "\n",
    "COLUMNS = [\n",
    "    \"price\",\n",
    "    \"area\",\n",
    "    \"bedrooms\",\n",
    "    \"bathrooms\",\n",
    "    \"stories\",\n",
    "    \"parking\",\n",
    "    ]\n",
    "Y_RESULT_COLUMN = \"price\"\n",
    "FILE_PATH = \"./dataset/Housing.csv\"\n",
    "dataset = pd.read_csv(FILE_PATH, \n",
    "usecols=COLUMNS)\n",
    "print(dataset.head())"
   ]
  },
  {
   "cell_type": "code",
   "execution_count": 16,
   "metadata": {},
   "outputs": [
    {
     "name": "stdout",
     "output_type": "stream",
     "text": [
      "Size of training : (381, 5)\n",
      "Size of training : (381, 1)\n",
      "Size of training : (164, 5)\n",
      "Size of training : (164, 1)\n"
     ]
    }
   ],
   "source": [
    "X_FEATURES = map(lambda x : x != Y_RESULT_COLUMN, COLUMNS)\n",
    "X = dataset.loc[:, X_FEATURES].to_numpy()\n",
    "y = dataset.loc[:, Y_RESULT_COLUMN].to_numpy().reshape(-1,1)\n",
    "\n",
    "x_train, x_test, y_train, y_test = train_test_split(X, y, random_state=1, train_size = 0.7)\n",
    "\n",
    "print_train = lambda dato : print(f\"Size of training : {dato.shape}\")\n",
    "\n",
    "print_train(x_train)\n",
    "print_train(y_train)\n",
    "print_train(x_test)\n",
    "print_train(y_test)\n",
    "\n",
    "\n"
   ]
  },
  {
   "cell_type": "code",
   "execution_count": 17,
   "metadata": {},
   "outputs": [
    {
     "name": "stdout",
     "output_type": "stream",
     "text": [
      "(381, 6)\n",
      "Coeficientes de w\n",
      "[[1.46818077e+05]\n",
      " [3.13160758e+02]\n",
      " [6.95305484e+04]\n",
      " [1.17667552e+06]\n",
      " [5.56459712e+05]\n",
      " [3.86457095e+05]]\n"
     ]
    }
   ],
   "source": [
    "\n",
    "x0 = np.ones((x_train.shape[0], 1))\n",
    "X_train = np.hstack((x0, x_train))\n",
    "\n",
    "print(X_train.shape)\n",
    "\n",
    "w = np.matmul(np.matmul(np.linalg.inv(np.matmul(X_train.transpose(), X_train)), X_train.transpose()), y_train)\n",
    "print(\"Coeficientes de w\")\n",
    "print(w)"
   ]
  },
  {
   "cell_type": "code",
   "execution_count": 20,
   "metadata": {},
   "outputs": [
    {
     "name": "stdout",
     "output_type": "stream",
     "text": [
      "Mean square error [training]: 1398845651930.565\n",
      "R2 score [training]: 0.5686508704431738\n",
      "Mean square error [training]: 1858778160593.7192\n",
      "R2 score [training]: 0.5433466854064638\n"
     ]
    },
    {
     "data": {
      "image/png": "[encoded data removed]",
      "text/plain": [
       "<Figure size 640x480 with 1 Axes>"
      ]
     },
     "metadata": {},
     "output_type": "display_data"
    }
   ],
   "source": [
    "predictions_normal = np.matmul(X_train, w.reshape(-1,1))\n",
    "print(f\"Mean square error [training]: {mean_squared_error(y_train, predictions_normal)}\")\n",
    "print(f\"R2 score [training]: {r2_score(y_train, predictions_normal)}\")\n",
    "\n",
    "# Este plot plotea el error residual, y si es normal, significa que es adecuado\n",
    "residual_train = y_train - predictions_normal\n",
    "plt.figure(1)\n",
    "# El ancho de las columnas del histograma es dado por Sturge's Rule\n",
    "plt.hist(residual_train, bins=int(1 + 3.222  * np.log(len(residual_train))))\n",
    "plt.xlabel(\"bin\")\n",
    "plt.ylabel(\"frequency\")\n",
    "plt.grid(True)\n",
    "\n",
    "\n",
    "x0 = np.ones((x_test.shape[0], 1))\n",
    "X_test = np.hstack((x0, x_test))\n",
    "\n",
    "predictions_normal_test = np.matmul(X_test, w.reshape(-1,1))\n",
    "print(f\"Mean square error [training]: {mean_squared_error(y_test, predictions_normal_test)}\")\n",
    "print(f\"R2 score [training]: {r2_score(y_test, predictions_normal_test)}\")\n",
    "\n",
    "\n",
    "\n",
    "\n",
    "\n"
   ]
  },
  {
   "cell_type": "markdown",
   "metadata": {},
   "source": [
    "# Sklearn"
   ]
  },
  {
   "cell_type": "code",
   "execution_count": null,
   "metadata": {},
   "outputs": [],
   "source": []
  }
 ],
 "metadata": {
  "kernelspec": {
   "display_name": "Python 3.10.6 64-bit",
   "language": "python",
   "name": "python3"
  },
  "language_info": {
   "codemirror_mode": {
    "name": "ipython",
    "version": 3
   },
   "file_extension": ".py",
   "mimetype": "text/x-python",
   "name": "python",
   "nbconvert_exporter": "python",
   "pygments_lexer": "ipython3",
   "version": "3.10.6"
  },
  "orig_nbformat": 4,
  "vscode": {
   "interpreter": {
    "hash": "949777d72b0d2535278d3dc13498b2535136f6dfe0678499012e853ee9abcab1"
   }
  }
 },
 "nbformat": 4,
 "nbformat_minor": 2
}
