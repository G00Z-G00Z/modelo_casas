{
 "cells": [
  {
   "cell_type": "code",
   "execution_count": null,
   "metadata": {},
   "outputs": [],
   "source": [
    "\"\"\" Predict-housing-prices.py\n",
    "\n",
    "    This Python script predicts the housing prices based on some parameters\n",
    "\n",
    "    Author: G00Z-G00Z\n",
    "    Contact: edygomezgg4@gmail.com\n",
    "    First created: Thu 22 Sep, 2022\n",
    "\"\"\"\n",
    "\n",
    "\n",
    "\n",
    "\n",
    "\n",
    "\n",
    "\n"
   ]
  }
 ],
 "metadata": {
  "language_info": {
   "name": "python"
  },
  "orig_nbformat": 4
 },
 "nbformat": 4,
 "nbformat_minor": 2
}
